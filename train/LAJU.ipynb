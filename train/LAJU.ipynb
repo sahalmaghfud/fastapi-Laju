{
  "nbformat": 4,
  "nbformat_minor": 0,
  "metadata": {
    "colab": {
      "provenance": []
    },
    "kernelspec": {
      "name": "python3",
      "display_name": "Python 3"
    },
    "language_info": {
      "name": "python"
    }
  },
  "cells": [
    {
      "cell_type": "code",
      "execution_count": 1,
      "metadata": {
        "id": "nx-duc2Jru5g"
      },
      "outputs": [],
      "source": [
        "import pandas as pd\n",
        "import numpy as np\n",
        "import tensorflow as tf\n",
        "from tensorflow.keras.preprocessing.text import Tokenizer\n",
        "from tensorflow.keras.preprocessing.sequence import pad_sequences\n",
        "from sklearn.model_selection import train_test_split\n",
        "import re\n",
        "import string\n",
        "\n",
        "url = \"https://raw.githubusercontent.com/sahalmaghfud/MLLawanJudi/main/datasetA.csv\"\n",
        "df = pd.read_csv(url)\n",
        "\n",
        "texts = df['text'].values\n",
        "labels = df['label'].values\n",
        "\n"
      ]
    },
    {
      "cell_type": "markdown",
      "source": [],
      "metadata": {
        "id": "nHztTe3yi7sQ"
      }
    },
    {
      "cell_type": "code",
      "source": [
        "X_train, X_test, y_train, y_test = train_test_split(texts, labels, test_size=10,shuffle=True)\n",
        "\n",
        "print(f\" training: {len(X_train)}\")\n",
        "print(f\"testing: {len(X_test)}\")\n",
        "\n",
        "print(X_test)\n",
        "\n"
      ],
      "metadata": {
        "colab": {
          "base_uri": "https://localhost:8080/"
        },
        "id": "0CLLy-_KsUKY",
        "outputId": "11b0dbf5-6ca0-4a00-fe79-5d7b9f932cbc"
      },
      "execution_count": 2,
      "outputs": [
        {
          "output_type": "stream",
          "name": "stdout",
          "text": [
            " training: 110\n",
            "testing: 10\n",
            "['Blibli - online mall Kategori Semua Cari brand, produk, atau seller 0 Masuk Daftar Tambah alamat biar belanja lebih asyik. 08092024/DBE/DES/BLM 08092024/DBE/DES/HTA 08092024/DBE/DES/Fashion 08092024/DBE/DES/Travel Baru widget Lihat Promo Tagihan & Isi Ulang Ekstra Diskon 1Jt Nantikan Promonya Komisi 20% Hemat 1.1Jt Film Gratis BCA Card Tukar Keuangan Bank Official Store Click Collect Ibu Anak Cicilan 0% 2 Jam Sampai Kesehatan Kecantikan Bliblihome 24112024/Long 1/desktop/MKT/blibli-histeria teaser'\n",
            " 'GoPay Produk Merchant Perusahaan Bantuan Baru! Aplikasi ringan untuk transfer ke mana aja dan bayar apa aja. Download sekarang! Google Play App Store aja, langsung masuk & gratis 100x/bulan Pakai bisa bank sesama GoPay. Syarat Ketentuan berlaku. Call Center: 1500729 customerservice@gopay.co.id Pinjaman Dompet Digital Aman Games Tentang Blog Siaran Pers Pertanyaan Media Karier Lainnya Promo Hubungi Kami Pemberitahuan Privasi Contact Us Gedung Pasaraya Blok M, B, Lt. 3 Jalan Iskandarsyah II No. 2, Melawai, Kebayoran Baru Jakarta Selatan 12160 Indonesia berizin diawasi oleh Indonesia. Pinjam PT Mapan Global Reksa Later Multifinance Anak Bangsa OJK. © 2023 - Bangsa. All Rights Reserved.'\n",
            " 'Media share sekarang mendukung TikTok dan IG Reels! Periksa pengaturan Overlay Anda. Saweria Logo saweria.co Menghubungkan Komunitas, Memberdayakan Streamer Login Daftar membantu Anda menerima dukungan finansial dari penggemar dengan metode pembayaran berikut Indonesia BAYAR OVO DANA LINKAJA QRIS Filipina MAYA GCASH SHOPEEPAY GRABPAY ayam dapat mudah mencairkan ke semua bank e-wallet di / Memulai Daftarkan akun Memverifikasi Pilih atur Jangan lupa untuk memasukkan QR tautan Ucapkan terima kasih kepada pemberi tip Anda! Selamat Capybara Siap bergabung Saweria? Harga Setiap transaksi akan dikenakan biaya platform 10% (5-6% Indonesia) minimal 1,5 PHP (Rp150 Cashout bank/e-wallet transfer sebesar Rp 5.000 50 confused? have questions? please check our faq Tutorial Terms and Conditions Made with from SUB PT Harta Tahta Sukaria Changelog'\n",
            " \"Menu Lupa Password? Tetap masuk Masuk Daftar Slots Sports+ Casino Lotto Poker Fishing Arcade Promosi Leaderboard Referral Kontak 🎰 Selamat Bergabung di SABETSLOT! 🌟 Nikmati Permainan Slot Online Terkeren & Situs Gacor Nomor #1 di Indonesia! ✅ Cek Rekening Bank Kami Sebelum Deposit, Bosku! Transaksi via EDC? Konfirmasi super kilat dalam 1x24 Jam Saja! 🕒 ⚠️ Penting! SABETSLOT tidak punya agen untuk daftar via WA. Bantuan Peendaftaran dapat di bantu HANYA dari Livechat Kami. 💬 Daftar? Mudah banget, langsung aja ke Live Chat Resmi Kami! 💬 1 2 3 4 5 6 7 8 9 10 11 12 13 14 15 16 17 18 19 20 21 1 2 3 Spesial Promosi Daftar Masuk Beranda Slots Sports+ Casino Lotto Poker Fishing Arcade Promosi Slots Hot Exclusive New IDNSLOT PragmaticPlay Habanero PG Soft Nolimit City Slot Mania Lihat semua Mining Rush Cash Blitz Ragnarok Gates of Olympus Xmas 1000 Santa's Xmas Rush Slot Mania Phoenix Megaways Pong Pong Mahjong Jackpots Outsourced: Slash Game Blood & Shadow 2 CYBER CUBE Power of Odin Gates of Olympus 1000 Casino Lihat semua SA Gaming Evolution IDNLIVE PragmaticPlay Main Casino Arcade Hot PragmaticPlay Microgaming Spadegaming New Lihat semua Spaceman™ Slot Mania High Flyer Big Bass Crash Soccer Striker Space Crasher FlyX Sports+ Lihat semua Main Sports+ Lotto Lihat semua Main Lotto Poker Lihat semua Main Poker Fishing Lihat semua Main Fishing Sabetslot atau pun Sabet slot memiliki fokus utama dalam pembaruan games slot penuh dengan keseruan dan pengalaman bermain yang menyenangkan, nikmati semua benefit bermain dengan maksimal di Sabetslot Resmi! Baca lebih Quick Links Beranda Slots Sports+ Casino Lotto Poker Fishing Sabetslot Tentang Kami Promo Spesial Contact Deposit Withdraw Referral Leaderboard Legal Responsible Gaming Syarat & Ketentuan Kebijakan Privasi Syarat & Ketentuan Situs SabetSlot Referral Syarat & Ketentuan Stay Connected Sabetslot - Situs Games Bet Slot Benefit Resmi & Tema Terlengkap Selamat datang di SABETSLOT, salah satu situs slot terbaik di Indonesia. Sabetslot memiliki banyak fitur menarik yang memberikan banyak benefit, seperti fitur putaran gratis, perkalian seribu, dan masih banyak lagi. Kelebihan lain yang para slotter cari ialah tema games slot yang cepat update, Sabetslot selalu menjadi yang tercepat dalam merilis tema permainan slotnya, karena permainan baru biasanya memiliki fitur yang lebih menguntungkan, dan lebih sering memberikan kemenangan. Benefit Bermain di Sabetslot Resmi Pelayanan Profesional: Situs Sabetslot resmi akan memberikan pelayanan CS ramah, cepat, dan memberikan solusi yang tepat kepada para pemain. Bonus: Beraneka bonus ditawarkan oleh Sabetslot, karena seperti julukannya yang selalu memberikan Benefit, tidak tanggung memberikan bonus persenan dari total deposit para member. Baca lebih Partner IDNPOKER UboBet SABA Sports SBOBET CMD368 NSOFT TFGaming IDNSLOT Slot Mania PragmaticPlay Habanero PG Soft Nolimit City Microgaming PlayStar Reevo TTG PP 98% RTP Spadegaming Play'n Go Booming BNG Playson BTG UPG Bgaming GMW RedTiger NetEnt FastSpin SA Gaming Evolution IDNLIVE Microgaming Live Oriental Game WE VivoGaming Ezugi LuckyStreak Metode deposit © 2024 Sabetslot - All rights reserved\"\n",
            " 'https://www.facebook.com/rumahmpodana/ +85567769453 situsrumahmpo@gmail.com +6282261827399 Sun, November 24, 10:06:50 PM Rumahmpo Website Resmi Mpo Play Dan Situs Judi Online Link Slot Gacor Terpercaya serta Terbaik. Sudah Pasti Menang Mudah Auto Cuan Daftar Akun Deposit Dana 24 Jam Rupiah lang-flag-icon logo-img Nama Pengguna Kata Sandi Masuk Lupa ? hot-category-iconLive Game bola Kasino Lottery Poker Arcade Promosi Berita event.png Indonesia Selamat Datang Silakan Login atau Mendaftar Password? Home Event Informasi Keluaran Bantuan Kontak Kami slider-img Rp 34,823,035,273 popular.svg Terpopuler Tampilkan Lainnya game-img Mahjong Ways 2 Pong Princess MPOPLAY King Arthur Aztec Gold Treasure 3+ Chinese New Year Legacy Of Kong Maxways Money Tree Wins 3 - Black Scatter Rhapsody Muertos Lucky Twins Wilds FOR THE HORDE Royale House Dragon Gates Olympus category-icon Pragmatic PlayPragmatic PG SoftPG Soft Afb GamingAfb Gaming NEXTSPINNEXTSPIN Spade GamingSpade FASTSPINFASTSPIN Fa ChaiFa Chai OG SlotOG AdvantplayAdvantplay GB GameGB PlaystarPlaystar JDBJDB NoLimit CityNoLimit City HACKSAWPerbaikan HabaneroHabanero Joker GamingJoker CQ9 GamingCQ9 JILIJILI MicrogamingMicrogaming RED TIGERRED TIGER Playtech SlotSegera Rilis Casino LCPragmatic LC CasinoOG CASINOAFB WM CasinoWM GD88GD88 SA GAMINGSA EvolutionEvolution Dream GamingDream Asia GamingAsia Sexy GamingSexy LG88LG88 WE CASINOWE CASINOSegera Beijing Minggu, 2024-11-24 9517 Seoul 1289 Manila 1482 Bangkok 4326 Kampot Letter Fortune JDDE Berlin Sabtu, 2024-11-23 5726 Barcelona 7136 4DRome 5364 Singapore 5392 Bullseye 0748 Timor 3205 Magnum4D 2784 Hongkong 4074 Hongkong47 6417 4D 2671 Tokyo 5471 PCSO 1571 SiberiaPools 7930 SydneyPools 2874 Hongkong49 3424 Amsterdam servicemeter.svg Layanan Member Waktu 1 Menit WITHDRAW payment.svg Sistem Pembayaran bank-logo Download Apk playstore app vider-img Permainan Terlengkap dalam seluruh platform Lisensi pagcor-png Customer whatsapp-png Provider NEXTSPIN FASTSPIN Advantplay Playstar JDB HACKSAW Habanero JILI Microgaming LIVE COD SV388 Cockfight MIKI WS168 GA28 AFB88 CMD368 SBO SPORT SABA Sports OPUS GD88 Evolution LG88 We1Poker Q Spaceman SPRIBE +21 Tentang Persyaratan & Ketentuan FAQ Umpan balik Copyright © 2021 2024 is an international registered trademark. All rights reserved.'\n",
            " '4 Alpha BERANDA SPORTBOOK E-SPORT SLOTS IDNLIVE Download APK | Live Chat | Hubungi Kami | Lupa Kata Sandi? | Kata Sandi MASUK DAFTAR ARCADE POKER TOGEL LIVE CASINO TANGKAS TEMBAKIKAN REFERRAL PROMOSI Alpha Selamat Datang di Alhaslot88 1 Alphaslc GRATIS AlphaStotZ?J Aplikasi Mobile ps://tongkatpetir.online/promotion Info: 4 AlphaWebsite Terpercaya Pilih yang Terbaik bagi Anda. DAFTAR GRATIS Keberuntungan Besar ALPHASLOT88 Alpha Slot U SUPER KHUSUS SLOT PRAGMATIC PGSOFT ALPHASLOT88 EA Y TEP WITHDRAW Tarik Uang Keamanan Terjamin DEVI E LIVE CHAT @ alphaslot88 LINK DOWNLOAD APK ALPHASLOT88: https://apkalphaslot88.com/download.html RTP SLOT GACOR RTP SLOT GACOR: https://t2m.io/slotindo-rtp ALTERNATIF 1 ALTERNATIF 2 ALTERNATIF 3 Tulis pesan. DOWNLOAD NOW CHAT NOW'\n",
            " ' SETORAN PERTAMABONUS SETORAN PERTAMADaftar dan terima bonus pada setoran ke-1Detail penawaran bonusMEGABONUS SETORAN PERTAMAMEGABONUS SETORAN PERTAMAPAKET SELAMAT DATANG HINGGA €1.500 + 150 PUTARAN GRATISDaftarLiga keberuntunganLiga keberuntunganMenangkan dengan para juara!Ambil bagian1xDunk1xDunkBertaruh pada NBA dan menangkan!Ambil bagian1XBET - MITRA GLOBAL FC BARCELONA1XBET - MITRA GLOBAL FC BARCELONAKemenangan dimulai di sini!Cari tahu lebih lanjut1xBet adalah mitra resmi PSG1xBet adalah mitra resmi PSGParis — jantung sepak bola!Pasang taruhan1xBet: mitra resmi Serie A1xBet: mitra resmi Serie ARasakan semangat Serie A dengan menang dengan 1xBet!Cari tahu lebih lanjutBarca 1Х MempercepatBarca 1Х MempercepatPerlombaan ini memberi penghargaan kepada penggemar Barca yang paling bersemangat! Dapatkan hadiah itu!AMBIL BAGIANNama kode: PSGNama kode: PSGMisi rahasia Anda: Pasang taruhan pada pertandingan Paris Saint-Germain dan menangkan gadget yang luar biasa!Ambil bagianMenang tanpa henti. Tebak siapa yang akan mencetak gol atau tidakMenang tanpa henti. Tebak siapa yang akan mencetak gol atau tidakTENIS MEJA. TARUHAN CEPAT!TENIS MEJA. TARUHAN CEPAT!Pasang taruhan sekarang juga!BermainTantangan Arena Bola VoliTantangan Arena Bola VoliPasang taruhan pada bola voli dan bangun arena juara Anda dalam promosi ini dari 1xBet!Ambil bagianMenjadi legendaMenjadi legendaBertaruh pada simulator sepak bola terbaik dalam penawaran kami dan jadilah legenda dengan 1xBet!Ambil bagianMengejar ScudettoMengejar ScudettoBenamkan diri Anda dalam suasana Serie A dengan penawaran unik dari 1xBet ini!AMBIL BAGIANESPORTS ERAESPORTS ERAPilih acara dan pasang taruhan bebas risiko!Ambil bagianKejuaraan Dunia M6Kejuaraan Dunia M6Jadikan turnamen semakin mendebarkan untuk ditonton!Pasang taruhanTIDAK ADA TARUHAN RISIKOTIDAK ADA TARUHAN RISIKOApakah taruhan Anda kalah? Dapatkan pengembalian dana!Pasang taruhan1xPukulan1xPukulanBalas dengan 1xBet!Ambil bagianHASIL IMBANG TANPA GOLHASIL IMBANG TANPA GOLDAPATKAN 100% KEMENANGAN UNTUK UNDIAN TANPA GOL!PASANG TARUHANESPORTS ERAESPORTS ERAPilih acara dan pasang taruhan bebas risiko!Ambil bagian1xBet adalah mitra resmi PGL Esports1xBet adalah mitra resmi PGL EsportsMenang bersama kami!Pasang taruhan1xBet adalah mitra utama AURORA Gaming1xBet adalah mitra utama AURORA Gaming#auroragaminggPasang taruhan1xBet adalah mitra resmi ESL1xBet adalah mitra resmi ESLTerjun ke aksi dengan organisasi esports terbesar di dunia!Keterangan lebih lanjut1xBet adalah mitra resmi Mongolz1xBet adalah mitra resmi MongolzIkatan yang tidak dapat dipatahkanPasang taruhanMasuk taruhan online 1xBetAcara populer dan berita olahragaUtamaHidupOlahragaToko Kode PromoPenawaran dan Bonus KhususBonus Setoran PertamaKasinoKasino LangsungPendaftaranBingoPermainan TVHasilOlahraga virtualBerburu dan Memancing1xPermainanHidupSepak bolaBola basketBola voliTenisBulutangkisGarisSepak bolaBola basketBola voliTenisBulutangkis'\n",
            " 'gacor77 LINK AKTIF KAMI : https://lanjutgacor.click/login1 | https://semogagacor.click/login2 - TIDAK MENERIMA SEMUA TARUHAN VIRTUAL SPORT DAN E-FOOTBALL DI PROVIDER APAPUN Butuh bantuan? Nama Pengguna Kata Sandi Masuk Daftar atau dengan google Beranda Sports Casino Slot PROMO Togel Poker Sabung Ayam Games Tembak Ikan Promosi Referral EVENTHOTNEW Pemenang Jackpot Username Bet Win/Lose  Progressive 17,324,607,436.55 WA VIP APK MISTERY BOX Tanggung Jawab Bermain Lisensi Situs Alternatif Login Terbaru Baik Untuk Kesehatan memiliki yang bisa akses ke android tanpa terkena blokir sudah pasti resmi dalam penyelenggara game nyelot zeus anti rungkat. Toggle Tutup'\n",
            " 'logo Username Password Masuk Daftar Lupa ? SportsPokerCasinoTogelSlotFishingLainnyaPromosiTurnamen|Download App Pengumuman TURNAMEN COSMOPLAY MINGGUAN - Multiplier di Provider PG SOFT Bonus Setiap Hari Mega Gacor by PP！！ Main dan jadilah juara harian dengan total hadiah hingga 88 Miliar RUPIAH! Jangan sampai terlewat! SELAMAT DATANG RESTU189 adalah situs game terbaik terpercaya 24jam Indonesia berkerjasama resmi dunia PRAGMATIC PLAY PARLAY Odds Tertinggi 3-10 Tim (Buka Seminggu Sekali) SPIN GRATIS Deposit 20rb 10x (Satu Kali Klaim), 100rb (Bisa Klaim Deposit). Minimal QRIS VA (Virtual Account) 10RB DANA OTOMATIS Saat ini telah tersedia pembayaran transaksi Q-RIS Web menyediakan melalui Royal Rewards (Nov. 22 ~ Dec. 6) Show all Legacy Of Kong Maxways Now GratisSpin Royale House Clash the Giants Katt Vegas Brothers Kingdom Happy Neko Poker Ways Gold Panther Hot Games iconSpin Gates Olympus 1000 icon Slime Quest Mahjong Wins 3 Black Scatter Kunoichi Bounty Carribean Treasure Starlight Princess Treasures Aztec Slots Lucky Circus Sports SBO IBC CMD BTI TFGaming Casino Always 8 Baccarat Infinite Fun 21 Blackjack Live Balloon Race AE Sexy Evolution Gaming Lightning Dragon Tiger Banks Bank BCA BNI MANDIRI BRI Service Average Time 3Min WITHDRAWAL 5Min PRODUCT Sportbooks paling lengkap tinggi, sportsbook pilihan yang dapat dipilih. SLOT berkomitmen untuk memberikan RTP semua Platform kami. Lisensi Tangung Jawab Download Browser HELP & SUPPORT Penyedia Layanan RESTU189: Bukan Sekedar Permainan, Restu Mengantar Keberuntungan! Ketika bicara soal permainan gamet online, kita biasanya tentang keberuntungan, bukan? Nah, RESTU189, keberuntungan sekadar omong kosong atau mitos belaka. sini, kunci utama akan pemain menuju kemenangan. Gak percaya? Yuk, bongkar rahasianya! Restu: Senjata Rahasia Balik Kemenangan nyata, sebelum ujian, wawancara kerja, bahkan ngapel ke rumah calon mertua, selalu butuh restu, kan? Begitu juga RESTU189. online sini main-main, restu. Tapi tenang, perlu dari orang tua kampung, cukup Dewi Fortuna dan… sedikit keberanian! Bermain itu seperti perjalanan spiritual: kombinasi antara klik gulungan mengalir membawa keberuntungan. kamu tekan tombol \"spin,\" rasanya memohon alam semesta. Kalau sudah di-‘restui’, jackpot bisa tiba kapan saja, lagi ngedip sekalipun. Sentuhan Magis buka pilih favoritmu, dan... Boom! Satu langsung merasa diselimuti aura cuma hoki, keseimbangan kosmik dirimu, mesin game, Gimana seru? hadir berbagai tema fitur super menarik. bertema petualangan hutan pertempuran luar angkasa, ada hal pasti: membimbing permainanmu. Ganda = Berlipat! namanya Ganda. Apa itu? Bayangkan besar, tiba-tiba langit turun lagi, menggandakan kemenanganmu! dongeng, nyata terjadi. dilengkapi melimpah, free spin, membuat kemenanganmu jadi berlipat Jadi, “wah, momen pas!”, percayalah, sedang bekerja keras belakang layar makin besar. tinggal duduk manis biarkan berbicara. Ajak Teman, Semakin Melimpah! jadinya dibagikan? Tentu banyak besar peluangmu menang! mengajak teman-temanmu ikut bermain, referral melimpah. temanmu menang, kecipratan bonusnya. acara arisan anggota, hadiahnya! betah karena klasik modern bikin berlama-lama. Ahli, Bermodal Restu! sibuk mencari strategi jitu, menghitung peluang, sebagainya. tahu bahwa lebih penting daripada hitung-hitungan matematika rumit. pusing mikirin canggih teori konspirasi jackpot. Pengalaman Beda pikir hoki menemukan sesuatu itu. terasa bermakna, hanya modal koin, tempat mana merasakan baru putaran. tampilan visual ciamik, suara menggelegar, nagih, memastikan pulang cerita kemenangan, tentunya samping mereka. Kesimpulan: Kemenangan! tunggu lagi? sudut permainan. klik, lain. ragu takut kalah, hadir, menunggu depan pintu. berkolaborasi puncak sekarang rasakan sendiri biasa! ©2024 Copyrights 18+ pakai cookies, menyempurnakan browsing anda, menikmati fungsi website ini. Harap menyalakan cookies pengaturan anda. Mengerti'\n",
            " 'Tutup register UserID Password Forgot Password? Home Sportsbook Slot games Live casino Poker Tangkas Others Promotions Mobile Contact Us new account Deposit into Play our popular Win amazing prizes Products now About scbet88 | responsible gaming Terms and Conditions Privacy Policy FAQCopyright © 2024 scbet88.com +18 SCBET88: Rekomendasi Terbaik Situs Judi Online Gacor Hari Ini Paling Sensational adalah dengan tingkat RTP tinggi & slot88 update dan memiliki kemenangan tertinggi di Indonesia. Kami merupakan bandar agen resmi yang dipercaya oleh pragmatic untuk mempersembahkan game bonafit. Terdapat berbagai pilihan permainan viral terkenal seperti Gates Of Olympus, Starlight Princess, Gatot Kaca. Segera mainkan sekarang rasakan pengalaman luar biasa diberikan customer service dalam melayani anda bermain gampang menang maxwin ! direkomendasi banyak orang slotter seluruh Indonesia karena persetase sampai 99.5 % hampir tersedia disini, hal juga mengakibatkan member betah SCBET. Fitur miliki terbaru dunia gambling selalu mengikuti regulasi, kondisi market perjudian online, rasa tanggung jawab ingin memberikan kepuasaan disaat website Bocoran Menurut Admin Dari Konek Parah Tidak Amat Power Ninja Gears Horus Mahjong Ways 3 Slime Party 4 Mask Inca Olympus 1.000 Princess Wild Bandito Apa Dimaksudkan ? istilah sering digunakan para pemain ketiga dimainkan mendapatkan freespin / mentok banyak. dikaitkan sedang sangat tinggi, contoh 98.99 %. Bagaimana cara mencari Yaitu mencoba beberapa terpercaya, lalu jumlah sama dibuat perbandingan mana gacor. Namun perlu repot melakukan itu SCBET88. Apakah Diatur Jawaban singkatnya, TIDAK. hanya menyediakan menyalurkan mainkan, kemenangan, kegacoran, lain berhubungan uang sudah pihak provider mengatur sistem algoritma mereka. Play, PG Soft, Habanero. Jadi bukan bandar, melainkan slot. selaku kapasitas kewenangan kekalahan member. berarti bisa semena mena berdasarkan mereka mau, aturan regulasi berwenang didalam online. TO artinya Turnover nominal total bet spin lakukan, didapatkan. sebanyak 5 kali. sekali 10.000 Rupiah. Maka x = 50.000 Rupiah 50 Ribu. Biasanya mencapai syarat bonus mingguan kepada Misalnya rollingan 0.8 berjumlah 10.000.000 10 Juta 80.000 kamu 80 Nama Terbesar Tentu saja ketika bertanya Indonesia, jumlahnya semuanya biasa. Tapi tetap saya namanya berdagang mungkin bilang dagangannya lebih baik lain. Terbukti beroperasi sejak tahun 2009, menjaga kepercayaan membernya sekarang. Termasuk Legal Sayangnya, negara lisensi PAGCOR diberikan. menutup semangat hobi kalian bettor setia 2009 Powered by g8gaming Anti Blokir']\n"
          ]
        }
      ]
    },
    {
      "cell_type": "code",
      "source": [
        "# Constants\n",
        "MAX_LENGTH = 700\n",
        "MAX_VOCAB_SIZE = 10000\n",
        "trunc_type = 'post'\n",
        "padding_type = 'post'\n",
        "oov_tok = \"<OOV>\"\n",
        "\n",
        "tokenizer = Tokenizer(num_words=MAX_VOCAB_SIZE, oov_token=oov_tok)\n",
        "tokenizer.fit_on_texts(X_train)\n",
        "\n",
        "X_train_seq = tokenizer.texts_to_sequences(X_train)\n",
        "X_train_pad = pad_sequences(X_train_seq, maxlen=MAX_LENGTH, padding=padding_type, truncating=trunc_type)\n",
        "\n",
        "X_test_seq = tokenizer.texts_to_sequences(X_test)\n",
        "X_test_pad = pad_sequences(X_test_seq, maxlen=MAX_LENGTH, padding=padding_type, truncating=trunc_type)\n",
        "\n",
        "vocab_size = len(tokenizer.word_index) + 1\n",
        "\n",
        "print(f\"Vocabulary size: {vocab_size}\")\n"
      ],
      "metadata": {
        "id": "hrzfVGNPsgiV",
        "colab": {
          "base_uri": "https://localhost:8080/"
        },
        "outputId": "08707333-8e0e-4b9e-88d3-b7bc2f42ee25"
      },
      "execution_count": 5,
      "outputs": [
        {
          "output_type": "stream",
          "name": "stdout",
          "text": [
            "Vocabulary size: 9332\n"
          ]
        }
      ]
    },
    {
      "cell_type": "code",
      "source": [
        "model = tf.keras.Sequential([\n",
        "    tf.keras.layers.Input(shape=(MAX_LENGTH,)),\n",
        "    tf.keras.layers.Embedding(input_dim=vocab_size, output_dim=100),\n",
        "    tf.keras.layers.Conv1D(64, 5, activation='relu'),\n",
        "    tf.keras.layers.GlobalMaxPooling1D(),\n",
        "    tf.keras.layers.Dropout(0.6),\n",
        "    tf.keras.layers.Dense(16, activation='relu'),\n",
        "    tf.keras.layers.Dense(1, activation='sigmoid')\n",
        "])\n",
        "\n",
        "model.compile(optimizer='adam', loss='binary_crossentropy', metrics=['accuracy'])\n",
        "\n",
        "model.summary()\n",
        "\n"
      ],
      "metadata": {
        "id": "d-wfLRn15epH",
        "colab": {
          "base_uri": "https://localhost:8080/",
          "height": 337
        },
        "outputId": "736c3dd5-378a-4268-ca44-eb31836fec62"
      },
      "execution_count": 6,
      "outputs": [
        {
          "output_type": "display_data",
          "data": {
            "text/plain": [
              "\u001b[1mModel: \"sequential_1\"\u001b[0m\n"
            ],
            "text/html": [
              "<pre style=\"white-space:pre;overflow-x:auto;line-height:normal;font-family:Menlo,'DejaVu Sans Mono',consolas,'Courier New',monospace\"><span style=\"font-weight: bold\">Model: \"sequential_1\"</span>\n",
              "</pre>\n"
            ]
          },
          "metadata": {}
        },
        {
          "output_type": "display_data",
          "data": {
            "text/plain": [
              "┏━━━━━━━━━━━━━━━━━━━━━━━━━━━━━━━━━━━━━━┳━━━━━━━━━━━━━━━━━━━━━━━━━━━━━┳━━━━━━━━━━━━━━━━━┓\n",
              "┃\u001b[1m \u001b[0m\u001b[1mLayer (type)                        \u001b[0m\u001b[1m \u001b[0m┃\u001b[1m \u001b[0m\u001b[1mOutput Shape               \u001b[0m\u001b[1m \u001b[0m┃\u001b[1m \u001b[0m\u001b[1m        Param #\u001b[0m\u001b[1m \u001b[0m┃\n",
              "┡━━━━━━━━━━━━━━━━━━━━━━━━━━━━━━━━━━━━━━╇━━━━━━━━━━━━━━━━━━━━━━━━━━━━━╇━━━━━━━━━━━━━━━━━┩\n",
              "│ embedding_1 (\u001b[38;5;33mEmbedding\u001b[0m)              │ (\u001b[38;5;45mNone\u001b[0m, \u001b[38;5;34m700\u001b[0m, \u001b[38;5;34m100\u001b[0m)            │         \u001b[38;5;34m933,200\u001b[0m │\n",
              "├──────────────────────────────────────┼─────────────────────────────┼─────────────────┤\n",
              "│ conv1d_1 (\u001b[38;5;33mConv1D\u001b[0m)                    │ (\u001b[38;5;45mNone\u001b[0m, \u001b[38;5;34m696\u001b[0m, \u001b[38;5;34m64\u001b[0m)             │          \u001b[38;5;34m32,064\u001b[0m │\n",
              "├──────────────────────────────────────┼─────────────────────────────┼─────────────────┤\n",
              "│ global_max_pooling1d_1               │ (\u001b[38;5;45mNone\u001b[0m, \u001b[38;5;34m64\u001b[0m)                  │               \u001b[38;5;34m0\u001b[0m │\n",
              "│ (\u001b[38;5;33mGlobalMaxPooling1D\u001b[0m)                 │                             │                 │\n",
              "├──────────────────────────────────────┼─────────────────────────────┼─────────────────┤\n",
              "│ dropout_1 (\u001b[38;5;33mDropout\u001b[0m)                  │ (\u001b[38;5;45mNone\u001b[0m, \u001b[38;5;34m64\u001b[0m)                  │               \u001b[38;5;34m0\u001b[0m │\n",
              "├──────────────────────────────────────┼─────────────────────────────┼─────────────────┤\n",
              "│ dense_2 (\u001b[38;5;33mDense\u001b[0m)                      │ (\u001b[38;5;45mNone\u001b[0m, \u001b[38;5;34m16\u001b[0m)                  │           \u001b[38;5;34m1,040\u001b[0m │\n",
              "├──────────────────────────────────────┼─────────────────────────────┼─────────────────┤\n",
              "│ dense_3 (\u001b[38;5;33mDense\u001b[0m)                      │ (\u001b[38;5;45mNone\u001b[0m, \u001b[38;5;34m1\u001b[0m)                   │              \u001b[38;5;34m17\u001b[0m │\n",
              "└──────────────────────────────────────┴─────────────────────────────┴─────────────────┘\n"
            ],
            "text/html": [
              "<pre style=\"white-space:pre;overflow-x:auto;line-height:normal;font-family:Menlo,'DejaVu Sans Mono',consolas,'Courier New',monospace\">┏━━━━━━━━━━━━━━━━━━━━━━━━━━━━━━━━━━━━━━┳━━━━━━━━━━━━━━━━━━━━━━━━━━━━━┳━━━━━━━━━━━━━━━━━┓\n",
              "┃<span style=\"font-weight: bold\"> Layer (type)                         </span>┃<span style=\"font-weight: bold\"> Output Shape                </span>┃<span style=\"font-weight: bold\">         Param # </span>┃\n",
              "┡━━━━━━━━━━━━━━━━━━━━━━━━━━━━━━━━━━━━━━╇━━━━━━━━━━━━━━━━━━━━━━━━━━━━━╇━━━━━━━━━━━━━━━━━┩\n",
              "│ embedding_1 (<span style=\"color: #0087ff; text-decoration-color: #0087ff\">Embedding</span>)              │ (<span style=\"color: #00d7ff; text-decoration-color: #00d7ff\">None</span>, <span style=\"color: #00af00; text-decoration-color: #00af00\">700</span>, <span style=\"color: #00af00; text-decoration-color: #00af00\">100</span>)            │         <span style=\"color: #00af00; text-decoration-color: #00af00\">933,200</span> │\n",
              "├──────────────────────────────────────┼─────────────────────────────┼─────────────────┤\n",
              "│ conv1d_1 (<span style=\"color: #0087ff; text-decoration-color: #0087ff\">Conv1D</span>)                    │ (<span style=\"color: #00d7ff; text-decoration-color: #00d7ff\">None</span>, <span style=\"color: #00af00; text-decoration-color: #00af00\">696</span>, <span style=\"color: #00af00; text-decoration-color: #00af00\">64</span>)             │          <span style=\"color: #00af00; text-decoration-color: #00af00\">32,064</span> │\n",
              "├──────────────────────────────────────┼─────────────────────────────┼─────────────────┤\n",
              "│ global_max_pooling1d_1               │ (<span style=\"color: #00d7ff; text-decoration-color: #00d7ff\">None</span>, <span style=\"color: #00af00; text-decoration-color: #00af00\">64</span>)                  │               <span style=\"color: #00af00; text-decoration-color: #00af00\">0</span> │\n",
              "│ (<span style=\"color: #0087ff; text-decoration-color: #0087ff\">GlobalMaxPooling1D</span>)                 │                             │                 │\n",
              "├──────────────────────────────────────┼─────────────────────────────┼─────────────────┤\n",
              "│ dropout_1 (<span style=\"color: #0087ff; text-decoration-color: #0087ff\">Dropout</span>)                  │ (<span style=\"color: #00d7ff; text-decoration-color: #00d7ff\">None</span>, <span style=\"color: #00af00; text-decoration-color: #00af00\">64</span>)                  │               <span style=\"color: #00af00; text-decoration-color: #00af00\">0</span> │\n",
              "├──────────────────────────────────────┼─────────────────────────────┼─────────────────┤\n",
              "│ dense_2 (<span style=\"color: #0087ff; text-decoration-color: #0087ff\">Dense</span>)                      │ (<span style=\"color: #00d7ff; text-decoration-color: #00d7ff\">None</span>, <span style=\"color: #00af00; text-decoration-color: #00af00\">16</span>)                  │           <span style=\"color: #00af00; text-decoration-color: #00af00\">1,040</span> │\n",
              "├──────────────────────────────────────┼─────────────────────────────┼─────────────────┤\n",
              "│ dense_3 (<span style=\"color: #0087ff; text-decoration-color: #0087ff\">Dense</span>)                      │ (<span style=\"color: #00d7ff; text-decoration-color: #00d7ff\">None</span>, <span style=\"color: #00af00; text-decoration-color: #00af00\">1</span>)                   │              <span style=\"color: #00af00; text-decoration-color: #00af00\">17</span> │\n",
              "└──────────────────────────────────────┴─────────────────────────────┴─────────────────┘\n",
              "</pre>\n"
            ]
          },
          "metadata": {}
        },
        {
          "output_type": "display_data",
          "data": {
            "text/plain": [
              "\u001b[1m Total params: \u001b[0m\u001b[38;5;34m966,321\u001b[0m (3.69 MB)\n"
            ],
            "text/html": [
              "<pre style=\"white-space:pre;overflow-x:auto;line-height:normal;font-family:Menlo,'DejaVu Sans Mono',consolas,'Courier New',monospace\"><span style=\"font-weight: bold\"> Total params: </span><span style=\"color: #00af00; text-decoration-color: #00af00\">966,321</span> (3.69 MB)\n",
              "</pre>\n"
            ]
          },
          "metadata": {}
        },
        {
          "output_type": "display_data",
          "data": {
            "text/plain": [
              "\u001b[1m Trainable params: \u001b[0m\u001b[38;5;34m966,321\u001b[0m (3.69 MB)\n"
            ],
            "text/html": [
              "<pre style=\"white-space:pre;overflow-x:auto;line-height:normal;font-family:Menlo,'DejaVu Sans Mono',consolas,'Courier New',monospace\"><span style=\"font-weight: bold\"> Trainable params: </span><span style=\"color: #00af00; text-decoration-color: #00af00\">966,321</span> (3.69 MB)\n",
              "</pre>\n"
            ]
          },
          "metadata": {}
        },
        {
          "output_type": "display_data",
          "data": {
            "text/plain": [
              "\u001b[1m Non-trainable params: \u001b[0m\u001b[38;5;34m0\u001b[0m (0.00 B)\n"
            ],
            "text/html": [
              "<pre style=\"white-space:pre;overflow-x:auto;line-height:normal;font-family:Menlo,'DejaVu Sans Mono',consolas,'Courier New',monospace\"><span style=\"font-weight: bold\"> Non-trainable params: </span><span style=\"color: #00af00; text-decoration-color: #00af00\">0</span> (0.00 B)\n",
              "</pre>\n"
            ]
          },
          "metadata": {}
        }
      ]
    },
    {
      "cell_type": "code",
      "source": [
        "print(\"X_train_pad shape:\", X_train_pad.shape)\n",
        "print(\"y_train shape:\", y_train.shape)\n",
        "print(\"X_test_pad shape:\", X_test_pad.shape)\n",
        "print(\"y_test shape:\", y_test.shape)"
      ],
      "metadata": {
        "colab": {
          "base_uri": "https://localhost:8080/"
        },
        "id": "nxM5CMXr6uuU",
        "outputId": "14aa9575-ea84-4933-b67a-fd0a5c4eb465"
      },
      "execution_count": 7,
      "outputs": [
        {
          "output_type": "stream",
          "name": "stdout",
          "text": [
            "X_train_pad shape: (110, 700)\n",
            "y_train shape: (110,)\n",
            "X_test_pad shape: (10, 700)\n",
            "y_test shape: (10,)\n"
          ]
        }
      ]
    },
    {
      "cell_type": "code",
      "source": [
        "history = model.fit(X_train_pad, y_train, epochs=20, validation_data=(X_test_pad, y_test))"
      ],
      "metadata": {
        "colab": {
          "base_uri": "https://localhost:8080/"
        },
        "id": "ZMR9stjJ60kn",
        "outputId": "e20319df-03a0-48dc-f243-062f8bf9b2cd"
      },
      "execution_count": 8,
      "outputs": [
        {
          "output_type": "stream",
          "name": "stdout",
          "text": [
            "Epoch 1/20\n",
            "\u001b[1m4/4\u001b[0m \u001b[32m━━━━━━━━━━━━━━━━━━━━\u001b[0m\u001b[37m\u001b[0m \u001b[1m3s\u001b[0m 272ms/step - accuracy: 0.4865 - loss: 0.6918 - val_accuracy: 0.8000 - val_loss: 0.6771\n",
            "Epoch 2/20\n",
            "\u001b[1m4/4\u001b[0m \u001b[32m━━━━━━━━━━━━━━━━━━━━\u001b[0m\u001b[37m\u001b[0m \u001b[1m1s\u001b[0m 114ms/step - accuracy: 0.6681 - loss: 0.6561 - val_accuracy: 0.9000 - val_loss: 0.6750\n",
            "Epoch 3/20\n",
            "\u001b[1m4/4\u001b[0m \u001b[32m━━━━━━━━━━━━━━━━━━━━\u001b[0m\u001b[37m\u001b[0m \u001b[1m0s\u001b[0m 110ms/step - accuracy: 0.6446 - loss: 0.6566 - val_accuracy: 1.0000 - val_loss: 0.6656\n",
            "Epoch 4/20\n",
            "\u001b[1m4/4\u001b[0m \u001b[32m━━━━━━━━━━━━━━━━━━━━\u001b[0m\u001b[37m\u001b[0m \u001b[1m0s\u001b[0m 109ms/step - accuracy: 0.8174 - loss: 0.6080 - val_accuracy: 1.0000 - val_loss: 0.6504\n",
            "Epoch 5/20\n",
            "\u001b[1m4/4\u001b[0m \u001b[32m━━━━━━━━━━━━━━━━━━━━\u001b[0m\u001b[37m\u001b[0m \u001b[1m0s\u001b[0m 108ms/step - accuracy: 0.7893 - loss: 0.5969 - val_accuracy: 1.0000 - val_loss: 0.6358\n",
            "Epoch 6/20\n",
            "\u001b[1m4/4\u001b[0m \u001b[32m━━━━━━━━━━━━━━━━━━━━\u001b[0m\u001b[37m\u001b[0m \u001b[1m1s\u001b[0m 125ms/step - accuracy: 0.8262 - loss: 0.5669 - val_accuracy: 1.0000 - val_loss: 0.6223\n",
            "Epoch 7/20\n",
            "\u001b[1m4/4\u001b[0m \u001b[32m━━━━━━━━━━━━━━━━━━━━\u001b[0m\u001b[37m\u001b[0m \u001b[1m1s\u001b[0m 190ms/step - accuracy: 0.8725 - loss: 0.5236 - val_accuracy: 1.0000 - val_loss: 0.6059\n",
            "Epoch 8/20\n",
            "\u001b[1m4/4\u001b[0m \u001b[32m━━━━━━━━━━━━━━━━━━━━\u001b[0m\u001b[37m\u001b[0m \u001b[1m1s\u001b[0m 192ms/step - accuracy: 0.9157 - loss: 0.4742 - val_accuracy: 1.0000 - val_loss: 0.5868\n",
            "Epoch 9/20\n",
            "\u001b[1m4/4\u001b[0m \u001b[32m━━━━━━━━━━━━━━━━━━━━\u001b[0m\u001b[37m\u001b[0m \u001b[1m1s\u001b[0m 199ms/step - accuracy: 0.9313 - loss: 0.4543 - val_accuracy: 1.0000 - val_loss: 0.5694\n",
            "Epoch 10/20\n",
            "\u001b[1m4/4\u001b[0m \u001b[32m━━━━━━━━━━━━━━━━━━━━\u001b[0m\u001b[37m\u001b[0m \u001b[1m1s\u001b[0m 138ms/step - accuracy: 1.0000 - loss: 0.4272 - val_accuracy: 1.0000 - val_loss: 0.5489\n",
            "Epoch 11/20\n",
            "\u001b[1m4/4\u001b[0m \u001b[32m━━━━━━━━━━━━━━━━━━━━\u001b[0m\u001b[37m\u001b[0m \u001b[1m0s\u001b[0m 112ms/step - accuracy: 0.9912 - loss: 0.3791 - val_accuracy: 1.0000 - val_loss: 0.5242\n",
            "Epoch 12/20\n",
            "\u001b[1m4/4\u001b[0m \u001b[32m━━━━━━━━━━━━━━━━━━━━\u001b[0m\u001b[37m\u001b[0m \u001b[1m1s\u001b[0m 107ms/step - accuracy: 0.9605 - loss: 0.3346 - val_accuracy: 1.0000 - val_loss: 0.5026\n",
            "Epoch 13/20\n",
            "\u001b[1m4/4\u001b[0m \u001b[32m━━━━━━━━━━━━━━━━━━━━\u001b[0m\u001b[37m\u001b[0m \u001b[1m0s\u001b[0m 118ms/step - accuracy: 0.9906 - loss: 0.2779 - val_accuracy: 0.9000 - val_loss: 0.4815\n",
            "Epoch 14/20\n",
            "\u001b[1m4/4\u001b[0m \u001b[32m━━━━━━━━━━━━━━━━━━━━\u001b[0m\u001b[37m\u001b[0m \u001b[1m0s\u001b[0m 108ms/step - accuracy: 0.9943 - loss: 0.2299 - val_accuracy: 0.9000 - val_loss: 0.4567\n",
            "Epoch 15/20\n",
            "\u001b[1m4/4\u001b[0m \u001b[32m━━━━━━━━━━━━━━━━━━━━\u001b[0m\u001b[37m\u001b[0m \u001b[1m1s\u001b[0m 118ms/step - accuracy: 0.9912 - loss: 0.2037 - val_accuracy: 0.9000 - val_loss: 0.4317\n",
            "Epoch 16/20\n",
            "\u001b[1m4/4\u001b[0m \u001b[32m━━━━━━━━━━━━━━━━━━━━\u001b[0m\u001b[37m\u001b[0m \u001b[1m1s\u001b[0m 107ms/step - accuracy: 0.9813 - loss: 0.1852 - val_accuracy: 0.9000 - val_loss: 0.4096\n",
            "Epoch 17/20\n",
            "\u001b[1m4/4\u001b[0m \u001b[32m━━━━━━━━━━━━━━━━━━━━\u001b[0m\u001b[37m\u001b[0m \u001b[1m0s\u001b[0m 112ms/step - accuracy: 0.9943 - loss: 0.1893 - val_accuracy: 0.9000 - val_loss: 0.3882\n",
            "Epoch 18/20\n",
            "\u001b[1m4/4\u001b[0m \u001b[32m━━━━━━━━━━━━━━━━━━━━\u001b[0m\u001b[37m\u001b[0m \u001b[1m0s\u001b[0m 110ms/step - accuracy: 1.0000 - loss: 0.1481 - val_accuracy: 0.9000 - val_loss: 0.3679\n",
            "Epoch 19/20\n",
            "\u001b[1m4/4\u001b[0m \u001b[32m━━━━━━━━━━━━━━━━━━━━\u001b[0m\u001b[37m\u001b[0m \u001b[1m0s\u001b[0m 118ms/step - accuracy: 0.9964 - loss: 0.1303 - val_accuracy: 0.9000 - val_loss: 0.3461\n",
            "Epoch 20/20\n",
            "\u001b[1m4/4\u001b[0m \u001b[32m━━━━━━━━━━━━━━━━━━━━\u001b[0m\u001b[37m\u001b[0m \u001b[1m1s\u001b[0m 108ms/step - accuracy: 0.9912 - loss: 0.1476 - val_accuracy: 1.0000 - val_loss: 0.3238\n"
          ]
        }
      ]
    },
    {
      "cell_type": "code",
      "source": [
        "\n",
        "\n",
        "new_text = [\"baim234: HOME Selamat Datang Kakak di Baim234 - Situs Resmi Slot Gacor Anti Rungkad Terbaik Dan Bandar Togel Terpercaya di Indonesia. Member wajib deposit ke rekening yang tertera sekarang di tujuan deposit, jika member deposit ke rekening tujuan deposit yang sebelumnya, maka tidak bisa di proses, sewaktu - waktu tujuan deposit bisa berubah tanpa pemberitahuan. Rupiah Masuk Daftar Lupa Kata Sandi ? Slot Pragmatic Play PG Soft Afb Gaming NEXTSPIN Spade Gaming FASTSPIN Fa Chai OG Slot Advantplay GB Game Playstar JDB NoLimit City HACKSAW Habanero Joker Gaming CQ9 Gaming JILI Microgaming RED TIGER Playtech Slot Casino Pragmatic Play LC OG Casino AFB CASINO WM Casino GD88 SA GAMING Evolution Dream Gaming Asia Gaming Sexy Gaming LG88 WE CASINO PLAYTECH CASINO Live Game BAIM234 LIVE COD GAMING SV388 Cockfight MIKI Gaming WS168 GA28 Sportsbook AFB88 CMD368 SBO SPORT SABA Sports OPUS Sports Lottery 4D Poker We1Poker Poker Q Arcade Spaceman Joker Gaming JILI Fastspin Fa Chai SPRIBE JDB Spade Gaming CQ9 Berita Promosi Daftar Selamat Datang Kakak di Baim234 - Situs Resmi Slot Gacor Anti Rungkad Terbaik Dan Bandar Togel Terpercaya di Indonesia. Member wajib deposit ke rekening yang tertera sekarang di tujuan deposit, jika member deposit ke rekening tujuan deposit yang sebelumnya, maka tidak bisa di proses, sewaktu - waktu tujuan deposit bisa berubah tanpa pemberitahuan. Indonesia Selamat Datang Silakan Login atau Mendaftar Masuk Daftar Lupa Password? Home Event Promosi Berita Informasi Keluaran Bantuan Kontak Kami Region and Language Indonesia Indonesia id English en Rp Game Terpopuler Tampilkan Lainnya SUGAR BANG BANG Legacy Of Kong Maxways MPOPLAY Money Tree Mahjong Wins 3 - Black Scatter Rhapsody of Muertos Mahjong Ways Mpoplay Lucky Twins Wilds FOR THE HORDE Royale House Mahjong Dragon GOLDEN GENIE Gates of Olympus Mahjong Ways 2 Pong Pong Mahjong Jackpots Mahjong Princess MPOPLAY King Arthur Aztec Gold Treasure MAHJONG WAYS 3+ Slot Tampilkan Lainnya Pragmatic Play PG Soft A\"]\n",
        "new_text_seq = tokenizer.texts_to_sequences(new_text)\n",
        "new_text_pad = pad_sequences(new_text_seq, maxlen=MAX_LENGTH)\n",
        "\n",
        "prediction = model.predict(new_text_pad)\n",
        "print(prediction)\n",
        "print(f\"Prediksi: {'Judi Online' if prediction > 0.5 else 'Bukan Judi Online'}\")\n"
      ],
      "metadata": {
        "colab": {
          "base_uri": "https://localhost:8080/"
        },
        "id": "i0fTofVY62HV",
        "outputId": "aadc465e-5df1-4587-a1bc-58e3bdef9d29"
      },
      "execution_count": 12,
      "outputs": [
        {
          "output_type": "stream",
          "name": "stdout",
          "text": [
            "\u001b[1m1/1\u001b[0m \u001b[32m━━━━━━━━━━━━━━━━━━━━\u001b[0m\u001b[37m\u001b[0m \u001b[1m0s\u001b[0m 25ms/step\n",
            "[[0.9585825]]\n",
            "Prediksi: Judi Online\n"
          ]
        }
      ]
    },
    {
      "cell_type": "code",
      "source": [
        "new_text = [\"Psikolog Jelaskan Dampak Kecanduan Judi Online buat Anak Remaja Psikolog Jelaskan Dampak Kecanduan Judi Online buat Anak Remaja 0 komentar BAGIKAN Tautan telah disalin MENU detikcom Terpopuler Live TV Kirim Tulisan detikPilkada NEW Kategori Berita detikNews detikFinance detikInet detikHot detikSport Sepakbola detikOto detikTravel detikFood detikHealth Wolipop DetikX 20Detik detikFoto detikEdu detikHikmah detikProperti detikPop NEW Daerah detikJateng detikJatim detikJabar detikSulsel detikSumut detikBali detikSumbagsel detikJogja NEW Layanan Pasang Mata adsmart detikEvent Trans Snow World Trans Studio Flying Over Indonesia berbuatbaik.id ziswafctarsa.id Signature Awards NEW Bingkai.id NEW Detik Network CNN Indonesia CNBC Indonesia Hai Bunda InsertLive Beautynesia Female Daily CXO Media Cancel Yang sedang ramai dicari Loading... Terakhir yang dicari Loading... Home Sekolah Perguruan Tinggi Beasiswa Edutainment Seleksi Masuk PT Detikpedia Foto Video Infografis Indeks Most Popular Bank Soal Point of View detikEdu Sekolah Psikolog Jelaskan Dampak Kecanduan Judi Online buat Anak Remaja Trisna Wulandari - detikEdu Senin, 02 Des 2024 20:00 WIB Muzakki Ramdhan, Egy Octa Suroso, dan Baim Alkatiri di film pendek tentang judi online, Kemenangan Sejati. Foto: Instagram @cerdasberkarakter.kemdikbudri Daftar Isi Dampak Judi Online Ganggu Kesehatan Mental Stres soal Uang Hubungan Merenggang Rentan Kriminalitas Jakarta - Laporan Pusat Pelaporan dan Analisis Transaksi Keuangan (PPATK) menunjukkan tak kurang dari 197.000 anak Indonesia terlibat judi online sepanjang 2024. Anak-anak yang terpapar judi online berada di rentang usia 11-19 tahun. Psikolog Irma Gustiana mengamini bahwa remaja punya rasa ingin tahu yang besar. Karena itu, godaan untuk ingin mencoba judi online terkadang bisa muncul. Namun, ia menegaskan dampak judi online bisa berbuntut panjang. Baca juga: 960 Ribu Pelajar Terlibat Judol, Kemendiktisaintek Bakal Bantu Rehabilitasi Korban Dampak Judi Online Ganggu Kesehatan\"]\n",
        "new_text_seq = tokenizer.texts_to_sequences(new_text)\n",
        "new_text_pad = pad_sequences(new_text_seq, maxlen=MAX_LENGTH)\n",
        "\n",
        "prediction = model.predict(new_text_pad)\n",
        "print(prediction)\n",
        "print(f\"Prediksi: {'Judi Online' if prediction > 0.5 else 'Bukan Judi Online'}\")\n"
      ],
      "metadata": {
        "colab": {
          "base_uri": "https://localhost:8080/"
        },
        "outputId": "1b4efee8-5e57-4cbf-af7a-05bb5f43b8d1",
        "id": "6JK5P75UEvCZ"
      },
      "execution_count": 10,
      "outputs": [
        {
          "output_type": "stream",
          "name": "stdout",
          "text": [
            "\u001b[1m1/1\u001b[0m \u001b[32m━━━━━━━━━━━━━━━━━━━━\u001b[0m\u001b[37m\u001b[0m \u001b[1m0s\u001b[0m 26ms/step\n",
            "[[0.26362738]]\n",
            "Prediksi: Bukan Judi Online\n"
          ]
        }
      ]
    },
    {
      "cell_type": "code",
      "source": [
        "from google.colab import files\n",
        "tf.keras.models.save_model(model, 'modelLajuA.keras')\n",
        "files.download('modelLajuA.keras')"
      ],
      "metadata": {
        "id": "3TTrWQTp-SRb",
        "colab": {
          "base_uri": "https://localhost:8080/",
          "height": 17
        },
        "outputId": "63500e64-37de-4a6b-bda4-1976f248b312"
      },
      "execution_count": 11,
      "outputs": [
        {
          "output_type": "display_data",
          "data": {
            "text/plain": [
              "<IPython.core.display.Javascript object>"
            ],
            "application/javascript": [
              "\n",
              "    async function download(id, filename, size) {\n",
              "      if (!google.colab.kernel.accessAllowed) {\n",
              "        return;\n",
              "      }\n",
              "      const div = document.createElement('div');\n",
              "      const label = document.createElement('label');\n",
              "      label.textContent = `Downloading \"${filename}\": `;\n",
              "      div.appendChild(label);\n",
              "      const progress = document.createElement('progress');\n",
              "      progress.max = size;\n",
              "      div.appendChild(progress);\n",
              "      document.body.appendChild(div);\n",
              "\n",
              "      const buffers = [];\n",
              "      let downloaded = 0;\n",
              "\n",
              "      const channel = await google.colab.kernel.comms.open(id);\n",
              "      // Send a message to notify the kernel that we're ready.\n",
              "      channel.send({})\n",
              "\n",
              "      for await (const message of channel.messages) {\n",
              "        // Send a message to notify the kernel that we're ready.\n",
              "        channel.send({})\n",
              "        if (message.buffers) {\n",
              "          for (const buffer of message.buffers) {\n",
              "            buffers.push(buffer);\n",
              "            downloaded += buffer.byteLength;\n",
              "            progress.value = downloaded;\n",
              "          }\n",
              "        }\n",
              "      }\n",
              "      const blob = new Blob(buffers, {type: 'application/binary'});\n",
              "      const a = document.createElement('a');\n",
              "      a.href = window.URL.createObjectURL(blob);\n",
              "      a.download = filename;\n",
              "      div.appendChild(a);\n",
              "      a.click();\n",
              "      div.remove();\n",
              "    }\n",
              "  "
            ]
          },
          "metadata": {}
        },
        {
          "output_type": "display_data",
          "data": {
            "text/plain": [
              "<IPython.core.display.Javascript object>"
            ],
            "application/javascript": [
              "download(\"download_58774a6a-f86c-42f5-afac-adad151a8333\", \"modelLajuA.keras\", 11625070)"
            ]
          },
          "metadata": {}
        }
      ]
    },
    {
      "cell_type": "code",
      "source": [
        "\n"
      ],
      "metadata": {
        "id": "Vr3AqdwgWbGp"
      },
      "execution_count": null,
      "outputs": []
    }
  ]
}